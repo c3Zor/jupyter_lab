{
 "cells": [
  {
   "cell_type": "code",
   "execution_count": 2,
   "metadata": {},
   "outputs": [],
   "source": [
    "# importing necesary libraries\n",
    "import numpy as np\n",
    "import matplotlib.pyplot as plt\n",
    "import keras\n",
    "from keras.datasets import mnist\n",
    "from keras.models import Sequential\n",
    "from keras.layers import Dense\n",
    "from keras.optimizers import Adam\n",
    "from keras.utils.np_utils import to_categorical\n",
    "import random"
   ]
  },
  {
   "cell_type": "code",
   "execution_count": 3,
   "metadata": {},
   "outputs": [],
   "source": [
    "#giving a random seed to have the same data every time\n",
    "np.random.seed(0)"
   ]
  },
  {
   "cell_type": "code",
   "execution_count": 4,
   "metadata": {},
   "outputs": [],
   "source": [
    "# importing data into two sets one is test one is train and also importing labes\n",
    "(X_train, y_train), (X_test, y_test) = mnist.load_data()"
   ]
  },
  {
   "cell_type": "code",
   "execution_count": 12,
   "metadata": {},
   "outputs": [],
   "source": [
    "# assert good funcion fo debugging the code if condition is not bet gives an error \n",
    "# at this instance we are checking if training data has same numbers as label data\n",
    "# doing the same to the test data\n",
    "assert(X_train.shape[0] == y_train.shape[0]), \"The number of images not equal to ne number of labels\"\n",
    "assert(X_test.shape[0] == y_test.shape[0]), \"The number of images not equal to ne number of labels\"\n",
    "#asserting if images are required size 28x28px\n",
    "assert(X_train.shape[1:] == (28,28)), \"the dimension of the images ar not met\"\n",
    "assert(X_test.shape[1:] == (28,28)), \"the dimension of the images ar not met\""
   ]
  },
  {
   "cell_type": "code",
   "execution_count": 18,
   "metadata": {},
   "outputs": [
    {
     "ename": "SyntaxError",
     "evalue": "invalid syntax (<ipython-input-18-62601bf02cce>, line 13)",
     "output_type": "error",
     "traceback": [
      "\u001b[1;36m  File \u001b[1;32m\"<ipython-input-18-62601bf02cce>\"\u001b[1;36m, line \u001b[1;32m13\u001b[0m\n\u001b[1;33m    for i range(columns):\u001b[0m\n\u001b[1;37m              ^\u001b[0m\n\u001b[1;31mSyntaxError\u001b[0m\u001b[1;31m:\u001b[0m invalid syntax\n"
     ]
    }
   ],
   "source": [
    "# ploting and analizing our data\n",
    "num_of_samples = []\n",
    "# we will create a grid arangement to check 5 samples of every label data in\n",
    "# dataset ar plot the grid arrangement\n",
    "# in this dataset we will have grid 5 column and 10 rows for avery number\n",
    "columns = 5\n",
    "num_classess = 10\n",
    "fig, axs = plt.subplots(nrows=num_classess, ncols=columns, figsize=(5,10))\n",
    "# tight_layout automatically adjusts subplot params \n",
    "# so that the subplot(s) fits in to the figure area\n",
    "fig.tight_layout()\n",
    "#looping through columns and inside looping through rows\n",
    "for i range(columns):\n",
    "    for j in range(num_of_samples):\n",
    "        # lest filter "
   ]
  },
  {
   "cell_type": "code",
   "execution_count": null,
   "metadata": {},
   "outputs": [],
   "source": []
  }
 ],
 "metadata": {
  "kernelspec": {
   "display_name": "Python 3",
   "language": "python",
   "name": "python3"
  },
  "language_info": {
   "codemirror_mode": {
    "name": "ipython",
    "version": 3
   },
   "file_extension": ".py",
   "mimetype": "text/x-python",
   "name": "python",
   "nbconvert_exporter": "python",
   "pygments_lexer": "ipython3",
   "version": "3.6.7"
  }
 },
 "nbformat": 4,
 "nbformat_minor": 2
}
